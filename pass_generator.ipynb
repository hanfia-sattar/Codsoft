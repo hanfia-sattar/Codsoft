{
 "cells": [
  {
   "cell_type": "code",
   "execution_count": 27,
   "metadata": {},
   "outputs": [],
   "source": [
    "from tkinter import *\n",
    "import secrets\n",
    "import string\n",
    "import random\n",
    "\n",
    "root = Tk()\n",
    "root.geometry('400x180')  # Increased height to accommodate the new text box\n",
    "root.resizable(False, False)\n",
    "root.title('Password Generator')\n",
    "root.configure(background=\"#F8F8F8\")\n",
    "result=StringVar()\n",
    "\n",
    "def generate_random_string(length):\n",
    "    # Get all the ASCII letters in lowercase and uppercase\n",
    "    letters = string.ascii_letters\n",
    "    # Randomly choose characters from letters for the given length of the string\n",
    "    random_string = ''.join(secrets.choice(string.ascii_uppercase + string.digits)\n",
    "              for i in range(length))\n",
    "    return random_string\n",
    "\n",
    "def generate_password():\n",
    "    user_input = int(pass_entry.get())\n",
    "    #result = \"Hello \" + user_input\n",
    "    result=str(generate_random_string(user_input))\n",
    "    pass_gen.delete(0, END)  # Clear any previous text in result_entry\n",
    "    pass_gen.insert(0, result)\n",
    "\n",
    "\n",
    "\n",
    "lbl = Label(root, text=\"Welcome To Password Generator App\", font=('calibre', 14, 'bold'))\n",
    "lbl.grid(row=0, column=0, columnspan=2)\n",
    "\n",
    "name_label = Label(root, text='Enter the Length Of Your Password', font=('calibre', 10, 'bold'))\n",
    "name_label.grid(row=1, column=0, ipadx=10, ipady=10)\n",
    "\n",
    "pass_entry = Entry(root, font=('calibre', 10, 'normal'))\n",
    "pass_entry.grid(row=1, column=1)\n",
    "\n",
    "btn_pass = Button(root, text='Generate Password', fg='white', bg='blue', font=('Sans', '11', 'bold'), height=1, width=15, command=generate_password)\n",
    "btn_pass.grid(row=2, column=0, columnspan=5)\n",
    "\n",
    "result_label = Label(root, text='Result:', font=('calibre', 10, 'bold'))\n",
    "result_label.grid(row=3, column=0, columnspan=2)\n",
    "\n",
    "pass_gen = Entry(root,textvariable=result, font=('calibre', 10, 'normal'))\n",
    "pass_gen.grid(row=4, column=0, columnspan=2)\n",
    "\n",
    "root.mainloop()\n"
   ]
  }
 ],
 "metadata": {
  "kernelspec": {
   "display_name": "base",
   "language": "python",
   "name": "python3"
  },
  "language_info": {
   "codemirror_mode": {
    "name": "ipython",
    "version": 3
   },
   "file_extension": ".py",
   "mimetype": "text/x-python",
   "name": "python",
   "nbconvert_exporter": "python",
   "pygments_lexer": "ipython3",
   "version": "3.11.3"
  },
  "orig_nbformat": 4
 },
 "nbformat": 4,
 "nbformat_minor": 2
}
