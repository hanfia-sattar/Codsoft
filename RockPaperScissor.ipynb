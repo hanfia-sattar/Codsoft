{
 "cells": [
  {
   "cell_type": "code",
   "execution_count": null,
   "id": "a809b305",
   "metadata": {},
   "outputs": [
    {
     "name": "stdout",
     "output_type": "stream",
     "text": [
      "***********************Welcome to Game Dashboard*********************** \n",
      "Press 'A' to start the Game: \n",
      "A\n",
      "Choose your option\n",
      "\n",
      "             \t 1- Rock \n",
      "\n",
      "            \t 2- Paper \n",
      "\n",
      "            \t 3- Scissor \n",
      "2\n",
      "User Selection is Paper\n",
      "Computer Selection is Rock\n",
      "Congratulations!!! You Win\n",
      "Do You want To Play Again? Write 'Y' Or 'N': \n",
      "Y\n",
      "Thankyou For Playing\n"
     ]
    }
   ],
   "source": [
    "import random\n",
    "\n",
    "def game_play(user_val,comp_val):\n",
    "    if (user_val==\"1\" and comp_val==\"3\"):\n",
    "        print(\"Congratulations!!!You Win\")\n",
    "    elif (user_val==\"3\" and comp_val==\"2\"):\n",
    "        print(\"Congratulations!!!You Win\")\n",
    "    elif (user_val==\"2\" and comp_val==\"1\"):\n",
    "        print(\"Congratulations!!! You Win\")\n",
    "    elif (user_val==comp_val):\n",
    "        print (\"Its A Tie\")\n",
    "    else:\n",
    "        print(\"Sorry! You Lose\")\n",
    "    \n",
    "    \n",
    "def action_name(selected_val):\n",
    "    if (selected_val==\"1\"):\n",
    "        return \"Rock\"\n",
    "    elif (selected_val==\"2\"):\n",
    "        return \"Paper\"\n",
    "    elif (selected_val==\"3\"):\n",
    "        return \"Scissor\"\n",
    "        \n",
    "print(\"***********************Welcome to Game Dashboard*********************** \")\n",
    "\n",
    "start=input(\"Press 'A' to start the Game: \\n\")\n",
    "replay=True \n",
    "if start==\"A\":\n",
    "        while replay==True:\n",
    "         user_input=input(\"\"\"Choose your option\\n\n",
    "             \\t 1- Rock \\n\n",
    "            \\t 2- Paper \\n\n",
    "            \\t 3- Scissor \\n\"\"\" )\n",
    "         if user_input in [\"1\", \"2\", \"3\"]:\n",
    "            comp_input= str(random.randint(1,3))\n",
    "            print(\"User Selection is\",action_name(user_input))   \n",
    "            print (\"Computer Selection is\",action_name(comp_input))\n",
    "            game_play(user_input,comp_input)\n",
    "            re_play=input(\"Do You want To Play Again? Write 'Y' Or 'N': \\n\")\n",
    "            if re_play==\"N\":\n",
    "               replay=False\n",
    "            else:\n",
    "                print(\"Thankyou For Playing\")\n",
    "        else:\n",
    "              print(\"Incorrect Choice!\")\n",
    "else:\n",
    "     print(\"Sorry Wrong Entry!\")\n",
    "    "
   ]
  },
  {
   "cell_type": "code",
   "execution_count": null,
   "id": "3b77cd12",
   "metadata": {},
   "outputs": [],
   "source": []
  },
  {
   "cell_type": "code",
   "execution_count": null,
   "id": "53db8e87",
   "metadata": {},
   "outputs": [],
   "source": []
  }
 ],
 "metadata": {
  "kernelspec": {
   "display_name": "Python 3 (ipykernel)",
   "language": "python",
   "name": "python3"
  },
  "language_info": {
   "codemirror_mode": {
    "name": "ipython",
    "version": 3
   },
   "file_extension": ".py",
   "mimetype": "text/x-python",
   "name": "python",
   "nbconvert_exporter": "python",
   "pygments_lexer": "ipython3",
   "version": "3.11.3"
  }
 },
 "nbformat": 4,
 "nbformat_minor": 5
}
